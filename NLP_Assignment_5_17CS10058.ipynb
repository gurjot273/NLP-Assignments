{
  "nbformat": 4,
  "nbformat_minor": 0,
  "metadata": {
    "colab": {
      "name": "NLP_Assignment_5_17CS10058.ipynb",
      "provenance": [],
      "collapsed_sections": [],
      "toc_visible": true
    },
    "kernelspec": {
      "name": "python3",
      "display_name": "Python 3"
    },
    "accelerator": "GPU"
  },
  "cells": [
    {
      "cell_type": "markdown",
      "metadata": {
        "id": "zyJ25uz0kSaw"
      },
      "source": [
        "\n",
        "\n",
        "\n",
        "# Assignment 5 on Natural Language Processing\n",
        "\n",
        "## Date : 3rd Nov, 2020\n",
        "\n",
        "### Instructor : Prof. Sudeshna Sarkar\n",
        "\n",
        "### Teaching Assistants : Alapan Kuila, Aniruddha Roy, Anusha Potnuru, Uppada Vishnu"
      ]
    },
    {
      "cell_type": "markdown",
      "metadata": {
        "id": "Ao1nhg9RknmF"
      },
      "source": [
        "The central idea of this assignment is to explore various language models specifically LSTM based and transformer. We will explore how the size of the model effects the sequence generated. We will see both character based and word based models.\n",
        "\n"
      ]
    },
    {
      "cell_type": "markdown",
      "metadata": {
        "id": "ONM5Q4SCe9Mr"
      },
      "source": [
        "Please submit with outputs. Submissions without predicted outputs will be penalized."
      ]
    },
    {
      "cell_type": "markdown",
      "metadata": {
        "id": "IXdkhxZAXnTW"
      },
      "source": [
        "# Word Based LSTM model"
      ]
    },
    {
      "cell_type": "code",
      "metadata": {
        "id": "FbU5DRolXseI"
      },
      "source": [
        "from keras.models import Sequential\n",
        "from keras.layers import Embedding\n",
        "from keras.layers import Dense\n",
        "from keras.layers import Dropout\n",
        "from keras.layers import LSTM\n",
        "from keras.callbacks import ModelCheckpoint\n",
        "from keras.utils import np_utils\n",
        "import numpy\n",
        "import re\n",
        "import pandas as pd\n",
        "import numpy as np\n",
        "from sklearn.model_selection import train_test_split\n",
        "from keras.preprocessing.text import Tokenizer\n",
        "from keras.preprocessing.sequence import pad_sequences\n",
        "import keras"
      ],
      "execution_count": 1,
      "outputs": []
    },
    {
      "cell_type": "markdown",
      "metadata": {
        "id": "d2NR3RFFYOT8"
      },
      "source": [
        "Do basic pre processing which includes lowering etc\n",
        "Check the dataset and apply suitable preprocessing."
      ]
    },
    {
      "cell_type": "code",
      "metadata": {
        "id": "iQvfF2NjXxGj",
        "outputId": "2eec281b-d61d-46fe-b28e-31e9fae9e99c",
        "colab": {
          "base_uri": "https://localhost:8080/"
        }
      },
      "source": [
        "# Load the data and preprocess data and store corpus in raw_text\n",
        "import nltk\n",
        "nltk.download('punkt') # For tokenizers\n",
        "from nltk.tokenize import RegexpTokenizer\n",
        "data=\"\"\n",
        "with open(\"corpus.txt\") as f:\n",
        "  data=f.read()\n",
        "raw_text = data.lower() # changing the text to lowercase\n",
        "tokenizer = RegexpTokenizer(r'[^\\W_]+')\n",
        "words = tokenizer.tokenize(raw_text)\n",
        "raw_text = ' '.join(words)"
      ],
      "execution_count": 2,
      "outputs": [
        {
          "output_type": "stream",
          "text": [
            "[nltk_data] Downloading package punkt to /root/nltk_data...\n",
            "[nltk_data]   Package punkt is already up-to-date!\n"
          ],
          "name": "stdout"
        }
      ]
    },
    {
      "cell_type": "code",
      "metadata": {
        "id": "eug68GOecM8Z"
      },
      "source": [
        "# Hyperparameters of the model\n",
        "vocab_size = 2570 # choose based on statistics\n",
        "oov_tok = '<OOV>'\n",
        "embedding_dim = 100\n",
        "padding_type='post'\n",
        "trunc_type='post'"
      ],
      "execution_count": 3,
      "outputs": []
    },
    {
      "cell_type": "code",
      "metadata": {
        "id": "bWNBOlJ5cQym"
      },
      "source": [
        "# tokenize sentences\n",
        "tokenizer = Tokenizer(num_words = vocab_size, oov_token=oov_tok)\n",
        "tokenizer.fit_on_texts([raw_text])\n",
        "word_index = tokenizer.word_index"
      ],
      "execution_count": 4,
      "outputs": []
    },
    {
      "cell_type": "code",
      "metadata": {
        "id": "LNRJDbFcdHbO"
      },
      "source": [
        "seq_length = 50\n",
        "tokens = tokenizer.texts_to_sequences([raw_text])[0]"
      ],
      "execution_count": 5,
      "outputs": []
    },
    {
      "cell_type": "code",
      "metadata": {
        "id": "ykfI4FrwdyJe",
        "outputId": "9fd2a2e8-eb9f-4562-cda7-98f9f93264ee",
        "colab": {
          "base_uri": "https://localhost:8080/"
        }
      },
      "source": [
        "dataX = []\n",
        "dataY = []\n",
        "\n",
        "for i in range(0, len(tokens) - seq_length-1 , 1):\n",
        "  seq_in = tokens[i:i + seq_length]\n",
        "  seq_out = tokens[i + seq_length]\n",
        "\n",
        "  if seq_out==1: #Skip samples where target word is OOV\n",
        "    continue\n",
        "    \n",
        "  dataX.append(seq_in)\n",
        "  dataY.append(seq_out)\n",
        " \n",
        "N = len(dataX)\n",
        "print (\"Total training data size: \", N)"
      ],
      "execution_count": 6,
      "outputs": [
        {
          "output_type": "stream",
          "text": [
            "Total training data size:  27283\n"
          ],
          "name": "stdout"
        }
      ]
    },
    {
      "cell_type": "code",
      "metadata": {
        "id": "cJmGr1xId8cO"
      },
      "source": [
        "X = numpy.array(dataX)\n",
        "\n",
        "# one hot encode the output variable\n",
        "y = numpy.array(dataY)\n",
        "y = np_utils.to_categorical(dataY)"
      ],
      "execution_count": 7,
      "outputs": []
    },
    {
      "cell_type": "code",
      "metadata": {
        "id": "8QPApRA-d9JV",
        "outputId": "df8f376a-1ade-4fa1-bc29-2706af6ce470",
        "colab": {
          "base_uri": "https://localhost:8080/"
        }
      },
      "source": [
        "# with embedding\n",
        "model = keras.Sequential([\n",
        "    keras.layers.Embedding(vocab_size, embedding_dim, input_length=seq_length),\n",
        "    keras.layers.Bidirectional(keras.layers.LSTM(64)),\n",
        "    keras.layers.Dense(vocab_size, activation='softmax')\n",
        "])\n",
        "# compile model\n",
        "model.compile(loss='categorical_crossentropy',\n",
        "              optimizer='adam',\n",
        "              metrics=['accuracy'])\n",
        "\n",
        "# model summary\n",
        "model.summary()"
      ],
      "execution_count": 8,
      "outputs": [
        {
          "output_type": "stream",
          "text": [
            "Model: \"sequential\"\n",
            "_________________________________________________________________\n",
            "Layer (type)                 Output Shape              Param #   \n",
            "=================================================================\n",
            "embedding (Embedding)        (None, 50, 100)           257000    \n",
            "_________________________________________________________________\n",
            "bidirectional (Bidirectional (None, 128)               84480     \n",
            "_________________________________________________________________\n",
            "dense (Dense)                (None, 2570)              331530    \n",
            "=================================================================\n",
            "Total params: 673,010\n",
            "Trainable params: 673,010\n",
            "Non-trainable params: 0\n",
            "_________________________________________________________________\n"
          ],
          "name": "stdout"
        }
      ]
    },
    {
      "cell_type": "code",
      "metadata": {
        "id": "14ClAAYpeCVO",
        "outputId": "904d1f64-1ae3-48df-d132-3086941fee85",
        "colab": {
          "base_uri": "https://localhost:8080/"
        }
      },
      "source": [
        "# Use validation split of 0.2 while training\n",
        "model.fit(X, y, epochs=150, batch_size=128, validation_split=0.2 ) "
      ],
      "execution_count": 9,
      "outputs": [
        {
          "output_type": "stream",
          "text": [
            "Epoch 1/150\n",
            "171/171 [==============================] - 3s 20ms/step - loss: 6.3413 - accuracy: 0.0533 - val_loss: 6.1905 - val_accuracy: 0.0823\n",
            "Epoch 2/150\n",
            "171/171 [==============================] - 3s 15ms/step - loss: 5.8815 - accuracy: 0.0546 - val_loss: 6.1308 - val_accuracy: 0.0823\n",
            "Epoch 3/150\n",
            "171/171 [==============================] - 2s 14ms/step - loss: 5.7624 - accuracy: 0.0578 - val_loss: 6.1402 - val_accuracy: 0.0837\n",
            "Epoch 4/150\n",
            "171/171 [==============================] - 3s 15ms/step - loss: 5.6652 - accuracy: 0.0630 - val_loss: 6.1482 - val_accuracy: 0.0861\n",
            "Epoch 5/150\n",
            "171/171 [==============================] - 3s 15ms/step - loss: 5.5719 - accuracy: 0.0698 - val_loss: 6.0908 - val_accuracy: 0.0924\n",
            "Epoch 6/150\n",
            "171/171 [==============================] - 3s 15ms/step - loss: 5.4647 - accuracy: 0.0794 - val_loss: 6.0554 - val_accuracy: 0.0990\n",
            "Epoch 7/150\n",
            "171/171 [==============================] - 3s 15ms/step - loss: 5.3369 - accuracy: 0.0981 - val_loss: 6.0341 - val_accuracy: 0.1035\n",
            "Epoch 8/150\n",
            "171/171 [==============================] - 3s 15ms/step - loss: 5.2070 - accuracy: 0.1063 - val_loss: 5.9844 - val_accuracy: 0.1059\n",
            "Epoch 9/150\n",
            "171/171 [==============================] - 3s 15ms/step - loss: 5.0846 - accuracy: 0.1145 - val_loss: 5.9761 - val_accuracy: 0.1098\n",
            "Epoch 10/150\n",
            "171/171 [==============================] - 2s 15ms/step - loss: 4.9741 - accuracy: 0.1243 - val_loss: 5.9802 - val_accuracy: 0.1079\n",
            "Epoch 11/150\n",
            "171/171 [==============================] - 2s 14ms/step - loss: 4.8719 - accuracy: 0.1338 - val_loss: 5.9647 - val_accuracy: 0.1074\n",
            "Epoch 12/150\n",
            "171/171 [==============================] - 2s 14ms/step - loss: 4.7761 - accuracy: 0.1415 - val_loss: 5.9860 - val_accuracy: 0.1142\n",
            "Epoch 13/150\n",
            "171/171 [==============================] - 3s 15ms/step - loss: 4.6855 - accuracy: 0.1506 - val_loss: 5.9927 - val_accuracy: 0.1178\n",
            "Epoch 14/150\n",
            "171/171 [==============================] - 2s 14ms/step - loss: 4.5963 - accuracy: 0.1562 - val_loss: 6.0154 - val_accuracy: 0.1217\n",
            "Epoch 15/150\n",
            "171/171 [==============================] - 2s 15ms/step - loss: 4.5096 - accuracy: 0.1637 - val_loss: 6.0207 - val_accuracy: 0.1230\n",
            "Epoch 16/150\n",
            "171/171 [==============================] - 3s 15ms/step - loss: 4.4213 - accuracy: 0.1706 - val_loss: 6.0371 - val_accuracy: 0.1244\n",
            "Epoch 17/150\n",
            "171/171 [==============================] - 3s 15ms/step - loss: 4.3356 - accuracy: 0.1748 - val_loss: 6.0623 - val_accuracy: 0.1219\n",
            "Epoch 18/150\n",
            "171/171 [==============================] - 2s 15ms/step - loss: 4.2478 - accuracy: 0.1812 - val_loss: 6.0841 - val_accuracy: 0.1274\n",
            "Epoch 19/150\n",
            "171/171 [==============================] - 3s 15ms/step - loss: 4.1624 - accuracy: 0.1888 - val_loss: 6.1221 - val_accuracy: 0.1268\n",
            "Epoch 20/150\n",
            "171/171 [==============================] - 2s 15ms/step - loss: 4.0747 - accuracy: 0.1942 - val_loss: 6.1285 - val_accuracy: 0.1347\n",
            "Epoch 21/150\n",
            "171/171 [==============================] - 3s 15ms/step - loss: 3.9875 - accuracy: 0.2024 - val_loss: 6.1709 - val_accuracy: 0.1297\n",
            "Epoch 22/150\n",
            "171/171 [==============================] - 2s 15ms/step - loss: 3.9005 - accuracy: 0.2107 - val_loss: 6.1859 - val_accuracy: 0.1351\n",
            "Epoch 23/150\n",
            "171/171 [==============================] - 2s 14ms/step - loss: 3.8143 - accuracy: 0.2190 - val_loss: 6.2058 - val_accuracy: 0.1341\n",
            "Epoch 24/150\n",
            "171/171 [==============================] - 3s 15ms/step - loss: 3.7283 - accuracy: 0.2295 - val_loss: 6.2405 - val_accuracy: 0.1362\n",
            "Epoch 25/150\n",
            "171/171 [==============================] - 2s 14ms/step - loss: 3.6443 - accuracy: 0.2398 - val_loss: 6.2679 - val_accuracy: 0.1308\n",
            "Epoch 26/150\n",
            "171/171 [==============================] - 3s 15ms/step - loss: 3.5596 - accuracy: 0.2510 - val_loss: 6.3163 - val_accuracy: 0.1283\n",
            "Epoch 27/150\n",
            "171/171 [==============================] - 3s 15ms/step - loss: 3.4784 - accuracy: 0.2639 - val_loss: 6.3491 - val_accuracy: 0.1308\n",
            "Epoch 28/150\n",
            "171/171 [==============================] - 3s 15ms/step - loss: 3.3978 - accuracy: 0.2774 - val_loss: 6.3789 - val_accuracy: 0.1325\n",
            "Epoch 29/150\n",
            "171/171 [==============================] - 3s 15ms/step - loss: 3.3146 - accuracy: 0.2922 - val_loss: 6.4242 - val_accuracy: 0.1264\n",
            "Epoch 30/150\n",
            "171/171 [==============================] - 3s 15ms/step - loss: 3.2379 - accuracy: 0.3037 - val_loss: 6.4668 - val_accuracy: 0.1250\n",
            "Epoch 31/150\n",
            "171/171 [==============================] - 2s 15ms/step - loss: 3.1582 - accuracy: 0.3223 - val_loss: 6.4933 - val_accuracy: 0.1277\n",
            "Epoch 32/150\n",
            "171/171 [==============================] - 3s 15ms/step - loss: 3.0821 - accuracy: 0.3356 - val_loss: 6.5391 - val_accuracy: 0.1296\n",
            "Epoch 33/150\n",
            "171/171 [==============================] - 2s 15ms/step - loss: 3.0090 - accuracy: 0.3521 - val_loss: 6.5765 - val_accuracy: 0.1253\n",
            "Epoch 34/150\n",
            "171/171 [==============================] - 3s 15ms/step - loss: 2.9359 - accuracy: 0.3650 - val_loss: 6.6313 - val_accuracy: 0.1255\n",
            "Epoch 35/150\n",
            "171/171 [==============================] - 3s 15ms/step - loss: 2.8649 - accuracy: 0.3768 - val_loss: 6.6714 - val_accuracy: 0.1242\n",
            "Epoch 36/150\n",
            "171/171 [==============================] - 3s 15ms/step - loss: 2.7950 - accuracy: 0.3944 - val_loss: 6.7137 - val_accuracy: 0.1244\n",
            "Epoch 37/150\n",
            "171/171 [==============================] - 3s 15ms/step - loss: 2.7290 - accuracy: 0.4065 - val_loss: 6.7587 - val_accuracy: 0.1208\n",
            "Epoch 38/150\n",
            "171/171 [==============================] - 3s 15ms/step - loss: 2.6649 - accuracy: 0.4205 - val_loss: 6.8150 - val_accuracy: 0.1213\n",
            "Epoch 39/150\n",
            "171/171 [==============================] - 3s 15ms/step - loss: 2.6008 - accuracy: 0.4349 - val_loss: 6.8510 - val_accuracy: 0.1202\n",
            "Epoch 40/150\n",
            "171/171 [==============================] - 3s 15ms/step - loss: 2.5390 - accuracy: 0.4473 - val_loss: 6.9028 - val_accuracy: 0.1187\n",
            "Epoch 41/150\n",
            "171/171 [==============================] - 3s 15ms/step - loss: 2.4808 - accuracy: 0.4597 - val_loss: 6.9542 - val_accuracy: 0.1160\n",
            "Epoch 42/150\n",
            "171/171 [==============================] - 3s 15ms/step - loss: 2.4220 - accuracy: 0.4720 - val_loss: 6.9895 - val_accuracy: 0.1198\n",
            "Epoch 43/150\n",
            "171/171 [==============================] - 3s 15ms/step - loss: 2.3661 - accuracy: 0.4829 - val_loss: 7.0437 - val_accuracy: 0.1178\n",
            "Epoch 44/150\n",
            "171/171 [==============================] - 3s 15ms/step - loss: 2.3129 - accuracy: 0.4926 - val_loss: 7.0901 - val_accuracy: 0.1151\n",
            "Epoch 45/150\n",
            "171/171 [==============================] - 2s 14ms/step - loss: 2.2587 - accuracy: 0.5068 - val_loss: 7.1530 - val_accuracy: 0.1167\n",
            "Epoch 46/150\n",
            "171/171 [==============================] - 2s 15ms/step - loss: 2.2073 - accuracy: 0.5178 - val_loss: 7.1997 - val_accuracy: 0.1147\n",
            "Epoch 47/150\n",
            "171/171 [==============================] - 3s 15ms/step - loss: 2.1573 - accuracy: 0.5283 - val_loss: 7.2539 - val_accuracy: 0.1136\n",
            "Epoch 48/150\n",
            "171/171 [==============================] - 3s 15ms/step - loss: 2.1087 - accuracy: 0.5408 - val_loss: 7.2942 - val_accuracy: 0.1105\n",
            "Epoch 49/150\n",
            "171/171 [==============================] - 3s 15ms/step - loss: 2.0604 - accuracy: 0.5491 - val_loss: 7.3481 - val_accuracy: 0.1116\n",
            "Epoch 50/150\n",
            "171/171 [==============================] - 3s 15ms/step - loss: 2.0116 - accuracy: 0.5612 - val_loss: 7.4106 - val_accuracy: 0.1127\n",
            "Epoch 51/150\n",
            "171/171 [==============================] - 3s 15ms/step - loss: 1.9663 - accuracy: 0.5694 - val_loss: 7.4560 - val_accuracy: 0.1118\n",
            "Epoch 52/150\n",
            "171/171 [==============================] - 3s 15ms/step - loss: 1.9209 - accuracy: 0.5818 - val_loss: 7.4963 - val_accuracy: 0.1081\n",
            "Epoch 53/150\n",
            "171/171 [==============================] - 3s 16ms/step - loss: 1.8790 - accuracy: 0.5918 - val_loss: 7.5559 - val_accuracy: 0.1081\n",
            "Epoch 54/150\n",
            "171/171 [==============================] - 2s 15ms/step - loss: 1.8356 - accuracy: 0.6006 - val_loss: 7.6038 - val_accuracy: 0.1056\n",
            "Epoch 55/150\n",
            "171/171 [==============================] - 3s 15ms/step - loss: 1.7933 - accuracy: 0.6109 - val_loss: 7.6509 - val_accuracy: 0.1070\n",
            "Epoch 56/150\n",
            "171/171 [==============================] - 2s 15ms/step - loss: 1.7566 - accuracy: 0.6208 - val_loss: 7.7116 - val_accuracy: 0.1078\n",
            "Epoch 57/150\n",
            "171/171 [==============================] - 3s 15ms/step - loss: 1.7150 - accuracy: 0.6283 - val_loss: 7.7505 - val_accuracy: 0.1079\n",
            "Epoch 58/150\n",
            "171/171 [==============================] - 2s 15ms/step - loss: 1.6757 - accuracy: 0.6381 - val_loss: 7.8127 - val_accuracy: 0.1056\n",
            "Epoch 59/150\n",
            "171/171 [==============================] - 3s 15ms/step - loss: 1.6384 - accuracy: 0.6457 - val_loss: 7.8641 - val_accuracy: 0.1032\n",
            "Epoch 60/150\n",
            "171/171 [==============================] - 3s 15ms/step - loss: 1.5998 - accuracy: 0.6549 - val_loss: 7.9190 - val_accuracy: 0.1021\n",
            "Epoch 61/150\n",
            "171/171 [==============================] - 3s 15ms/step - loss: 1.5629 - accuracy: 0.6628 - val_loss: 7.9786 - val_accuracy: 0.1013\n",
            "Epoch 62/150\n",
            "171/171 [==============================] - 2s 14ms/step - loss: 1.5267 - accuracy: 0.6720 - val_loss: 8.0331 - val_accuracy: 0.1041\n",
            "Epoch 63/150\n",
            "171/171 [==============================] - 3s 15ms/step - loss: 1.4914 - accuracy: 0.6807 - val_loss: 8.0757 - val_accuracy: 0.1002\n",
            "Epoch 64/150\n",
            "171/171 [==============================] - 2s 15ms/step - loss: 1.4571 - accuracy: 0.6884 - val_loss: 8.1424 - val_accuracy: 0.1035\n",
            "Epoch 65/150\n",
            "171/171 [==============================] - 3s 15ms/step - loss: 1.4232 - accuracy: 0.6981 - val_loss: 8.1837 - val_accuracy: 0.1017\n",
            "Epoch 66/150\n",
            "171/171 [==============================] - 3s 15ms/step - loss: 1.3910 - accuracy: 0.7051 - val_loss: 8.2426 - val_accuracy: 0.1008\n",
            "Epoch 67/150\n",
            "171/171 [==============================] - 2s 15ms/step - loss: 1.3568 - accuracy: 0.7118 - val_loss: 8.2987 - val_accuracy: 0.0995\n",
            "Epoch 68/150\n",
            "171/171 [==============================] - 3s 15ms/step - loss: 1.3252 - accuracy: 0.7201 - val_loss: 8.3521 - val_accuracy: 0.1017\n",
            "Epoch 69/150\n",
            "171/171 [==============================] - 3s 15ms/step - loss: 1.2958 - accuracy: 0.7256 - val_loss: 8.3995 - val_accuracy: 0.1026\n",
            "Epoch 70/150\n",
            "171/171 [==============================] - 3s 15ms/step - loss: 1.2639 - accuracy: 0.7361 - val_loss: 8.4494 - val_accuracy: 0.0997\n",
            "Epoch 71/150\n",
            "171/171 [==============================] - 3s 15ms/step - loss: 1.2334 - accuracy: 0.7414 - val_loss: 8.5056 - val_accuracy: 0.0979\n",
            "Epoch 72/150\n",
            "171/171 [==============================] - 3s 15ms/step - loss: 1.2037 - accuracy: 0.7485 - val_loss: 8.5542 - val_accuracy: 0.0973\n",
            "Epoch 73/150\n",
            "171/171 [==============================] - 3s 15ms/step - loss: 1.1791 - accuracy: 0.7550 - val_loss: 8.6044 - val_accuracy: 0.0962\n",
            "Epoch 74/150\n",
            "171/171 [==============================] - 2s 14ms/step - loss: 1.1472 - accuracy: 0.7633 - val_loss: 8.6620 - val_accuracy: 0.0964\n",
            "Epoch 75/150\n",
            "171/171 [==============================] - 3s 15ms/step - loss: 1.1191 - accuracy: 0.7699 - val_loss: 8.7244 - val_accuracy: 0.0979\n",
            "Epoch 76/150\n",
            "171/171 [==============================] - 3s 15ms/step - loss: 1.0914 - accuracy: 0.7752 - val_loss: 8.7679 - val_accuracy: 0.0958\n",
            "Epoch 77/150\n",
            "171/171 [==============================] - 3s 15ms/step - loss: 1.0629 - accuracy: 0.7834 - val_loss: 8.8309 - val_accuracy: 0.0966\n",
            "Epoch 78/150\n",
            "171/171 [==============================] - 3s 16ms/step - loss: 1.0380 - accuracy: 0.7890 - val_loss: 8.8673 - val_accuracy: 0.0949\n",
            "Epoch 79/150\n",
            "171/171 [==============================] - 3s 15ms/step - loss: 1.0120 - accuracy: 0.7946 - val_loss: 8.9386 - val_accuracy: 0.0953\n",
            "Epoch 80/150\n",
            "171/171 [==============================] - 3s 16ms/step - loss: 0.9866 - accuracy: 0.8013 - val_loss: 8.9767 - val_accuracy: 0.0988\n",
            "Epoch 81/150\n",
            "171/171 [==============================] - 3s 15ms/step - loss: 0.9607 - accuracy: 0.8089 - val_loss: 9.0479 - val_accuracy: 0.0940\n",
            "Epoch 82/150\n",
            "171/171 [==============================] - 3s 15ms/step - loss: 0.9359 - accuracy: 0.8127 - val_loss: 9.0954 - val_accuracy: 0.0940\n",
            "Epoch 83/150\n",
            "171/171 [==============================] - 3s 15ms/step - loss: 0.9127 - accuracy: 0.8209 - val_loss: 9.1438 - val_accuracy: 0.0953\n",
            "Epoch 84/150\n",
            "171/171 [==============================] - 3s 15ms/step - loss: 0.8912 - accuracy: 0.8256 - val_loss: 9.1983 - val_accuracy: 0.0962\n",
            "Epoch 85/150\n",
            "171/171 [==============================] - 3s 15ms/step - loss: 0.8650 - accuracy: 0.8307 - val_loss: 9.2404 - val_accuracy: 0.0953\n",
            "Epoch 86/150\n",
            "171/171 [==============================] - 3s 15ms/step - loss: 0.8434 - accuracy: 0.8370 - val_loss: 9.2906 - val_accuracy: 0.0966\n",
            "Epoch 87/150\n",
            "171/171 [==============================] - 3s 15ms/step - loss: 0.8214 - accuracy: 0.8409 - val_loss: 9.3473 - val_accuracy: 0.0924\n",
            "Epoch 88/150\n",
            "171/171 [==============================] - 3s 15ms/step - loss: 0.7990 - accuracy: 0.8480 - val_loss: 9.4034 - val_accuracy: 0.0940\n",
            "Epoch 89/150\n",
            "171/171 [==============================] - 3s 15ms/step - loss: 0.7782 - accuracy: 0.8519 - val_loss: 9.4490 - val_accuracy: 0.0927\n",
            "Epoch 90/150\n",
            "171/171 [==============================] - 3s 15ms/step - loss: 0.7568 - accuracy: 0.8582 - val_loss: 9.5166 - val_accuracy: 0.0940\n",
            "Epoch 91/150\n",
            "171/171 [==============================] - 3s 15ms/step - loss: 0.7350 - accuracy: 0.8629 - val_loss: 9.5643 - val_accuracy: 0.0951\n",
            "Epoch 92/150\n",
            "171/171 [==============================] - 3s 15ms/step - loss: 0.7160 - accuracy: 0.8675 - val_loss: 9.6139 - val_accuracy: 0.0942\n",
            "Epoch 93/150\n",
            "171/171 [==============================] - 2s 15ms/step - loss: 0.6971 - accuracy: 0.8726 - val_loss: 9.6715 - val_accuracy: 0.0951\n",
            "Epoch 94/150\n",
            "171/171 [==============================] - 3s 15ms/step - loss: 0.6769 - accuracy: 0.8764 - val_loss: 9.7053 - val_accuracy: 0.0938\n",
            "Epoch 95/150\n",
            "171/171 [==============================] - 3s 15ms/step - loss: 0.6595 - accuracy: 0.8822 - val_loss: 9.7730 - val_accuracy: 0.0925\n",
            "Epoch 96/150\n",
            "171/171 [==============================] - 3s 16ms/step - loss: 0.6409 - accuracy: 0.8873 - val_loss: 9.8175 - val_accuracy: 0.0946\n",
            "Epoch 97/150\n",
            "171/171 [==============================] - 3s 15ms/step - loss: 0.6249 - accuracy: 0.8905 - val_loss: 9.8802 - val_accuracy: 0.0944\n",
            "Epoch 98/150\n",
            "171/171 [==============================] - 3s 15ms/step - loss: 0.6064 - accuracy: 0.8943 - val_loss: 9.9430 - val_accuracy: 0.0900\n",
            "Epoch 99/150\n",
            "171/171 [==============================] - 3s 15ms/step - loss: 0.5873 - accuracy: 0.8993 - val_loss: 9.9727 - val_accuracy: 0.0933\n",
            "Epoch 100/150\n",
            "171/171 [==============================] - 3s 15ms/step - loss: 0.5719 - accuracy: 0.9026 - val_loss: 10.0244 - val_accuracy: 0.0929\n",
            "Epoch 101/150\n",
            "171/171 [==============================] - 3s 15ms/step - loss: 0.5543 - accuracy: 0.9066 - val_loss: 10.0767 - val_accuracy: 0.0931\n",
            "Epoch 102/150\n",
            "171/171 [==============================] - 3s 15ms/step - loss: 0.5380 - accuracy: 0.9107 - val_loss: 10.1179 - val_accuracy: 0.0944\n",
            "Epoch 103/150\n",
            "171/171 [==============================] - 3s 15ms/step - loss: 0.5244 - accuracy: 0.9143 - val_loss: 10.1765 - val_accuracy: 0.0907\n",
            "Epoch 104/150\n",
            "171/171 [==============================] - 3s 15ms/step - loss: 0.5059 - accuracy: 0.9191 - val_loss: 10.2428 - val_accuracy: 0.0909\n",
            "Epoch 105/150\n",
            "171/171 [==============================] - 3s 15ms/step - loss: 0.4908 - accuracy: 0.9226 - val_loss: 10.2822 - val_accuracy: 0.0929\n",
            "Epoch 106/150\n",
            "171/171 [==============================] - 3s 15ms/step - loss: 0.4766 - accuracy: 0.9255 - val_loss: 10.3498 - val_accuracy: 0.0898\n",
            "Epoch 107/150\n",
            "171/171 [==============================] - 3s 15ms/step - loss: 0.4621 - accuracy: 0.9302 - val_loss: 10.3839 - val_accuracy: 0.0916\n",
            "Epoch 108/150\n",
            "171/171 [==============================] - 3s 15ms/step - loss: 0.4456 - accuracy: 0.9337 - val_loss: 10.4514 - val_accuracy: 0.0896\n",
            "Epoch 109/150\n",
            "171/171 [==============================] - 3s 15ms/step - loss: 0.4362 - accuracy: 0.9360 - val_loss: 10.5065 - val_accuracy: 0.0927\n",
            "Epoch 110/150\n",
            "171/171 [==============================] - 3s 15ms/step - loss: 0.4242 - accuracy: 0.9376 - val_loss: 10.5322 - val_accuracy: 0.0903\n",
            "Epoch 111/150\n",
            "171/171 [==============================] - 3s 15ms/step - loss: 0.4087 - accuracy: 0.9431 - val_loss: 10.6038 - val_accuracy: 0.0914\n",
            "Epoch 112/150\n",
            "171/171 [==============================] - 3s 15ms/step - loss: 0.3970 - accuracy: 0.9455 - val_loss: 10.6531 - val_accuracy: 0.0911\n",
            "Epoch 113/150\n",
            "171/171 [==============================] - 3s 16ms/step - loss: 0.3860 - accuracy: 0.9455 - val_loss: 10.7142 - val_accuracy: 0.0902\n",
            "Epoch 114/150\n",
            "171/171 [==============================] - 3s 15ms/step - loss: 0.3762 - accuracy: 0.9484 - val_loss: 10.7538 - val_accuracy: 0.0909\n",
            "Epoch 115/150\n",
            "171/171 [==============================] - 3s 15ms/step - loss: 0.3625 - accuracy: 0.9512 - val_loss: 10.7913 - val_accuracy: 0.0900\n",
            "Epoch 116/150\n",
            "171/171 [==============================] - 3s 15ms/step - loss: 0.3475 - accuracy: 0.9555 - val_loss: 10.8468 - val_accuracy: 0.0892\n",
            "Epoch 117/150\n",
            "171/171 [==============================] - 3s 15ms/step - loss: 0.3354 - accuracy: 0.9575 - val_loss: 10.9177 - val_accuracy: 0.0887\n",
            "Epoch 118/150\n",
            "171/171 [==============================] - 3s 15ms/step - loss: 0.3244 - accuracy: 0.9598 - val_loss: 10.9546 - val_accuracy: 0.0883\n",
            "Epoch 119/150\n",
            "171/171 [==============================] - 3s 15ms/step - loss: 0.3128 - accuracy: 0.9628 - val_loss: 11.0219 - val_accuracy: 0.0854\n",
            "Epoch 120/150\n",
            "171/171 [==============================] - 3s 16ms/step - loss: 0.3075 - accuracy: 0.9637 - val_loss: 11.0596 - val_accuracy: 0.0837\n",
            "Epoch 121/150\n",
            "171/171 [==============================] - 3s 17ms/step - loss: 0.3002 - accuracy: 0.9651 - val_loss: 11.1167 - val_accuracy: 0.0869\n",
            "Epoch 122/150\n",
            "171/171 [==============================] - 3s 16ms/step - loss: 0.2835 - accuracy: 0.9683 - val_loss: 11.1584 - val_accuracy: 0.0874\n",
            "Epoch 123/150\n",
            "171/171 [==============================] - 3s 15ms/step - loss: 0.2744 - accuracy: 0.9695 - val_loss: 11.2094 - val_accuracy: 0.0865\n",
            "Epoch 124/150\n",
            "171/171 [==============================] - 3s 15ms/step - loss: 0.2676 - accuracy: 0.9720 - val_loss: 11.2659 - val_accuracy: 0.0867\n",
            "Epoch 125/150\n",
            "171/171 [==============================] - 3s 15ms/step - loss: 0.2628 - accuracy: 0.9730 - val_loss: 11.3029 - val_accuracy: 0.0834\n",
            "Epoch 126/150\n",
            "171/171 [==============================] - 3s 15ms/step - loss: 0.2542 - accuracy: 0.9736 - val_loss: 11.3370 - val_accuracy: 0.0870\n",
            "Epoch 127/150\n",
            "171/171 [==============================] - 3s 15ms/step - loss: 0.2387 - accuracy: 0.9766 - val_loss: 11.4089 - val_accuracy: 0.0861\n",
            "Epoch 128/150\n",
            "171/171 [==============================] - 3s 15ms/step - loss: 0.2337 - accuracy: 0.9779 - val_loss: 11.4601 - val_accuracy: 0.0867\n",
            "Epoch 129/150\n",
            "171/171 [==============================] - 3s 15ms/step - loss: 0.2269 - accuracy: 0.9790 - val_loss: 11.5208 - val_accuracy: 0.0843\n",
            "Epoch 130/150\n",
            "171/171 [==============================] - 3s 15ms/step - loss: 0.2136 - accuracy: 0.9814 - val_loss: 11.5600 - val_accuracy: 0.0858\n",
            "Epoch 131/150\n",
            "171/171 [==============================] - 3s 15ms/step - loss: 0.2050 - accuracy: 0.9837 - val_loss: 11.5995 - val_accuracy: 0.0896\n",
            "Epoch 132/150\n",
            "171/171 [==============================] - 3s 15ms/step - loss: 0.1980 - accuracy: 0.9834 - val_loss: 11.6618 - val_accuracy: 0.0865\n",
            "Epoch 133/150\n",
            "171/171 [==============================] - 3s 15ms/step - loss: 0.1975 - accuracy: 0.9837 - val_loss: 11.7197 - val_accuracy: 0.0861\n",
            "Epoch 134/150\n",
            "171/171 [==============================] - 3s 15ms/step - loss: 0.1874 - accuracy: 0.9851 - val_loss: 11.7635 - val_accuracy: 0.0852\n",
            "Epoch 135/150\n",
            "171/171 [==============================] - 3s 15ms/step - loss: 0.1810 - accuracy: 0.9864 - val_loss: 11.8041 - val_accuracy: 0.0850\n",
            "Epoch 136/150\n",
            "171/171 [==============================] - 3s 15ms/step - loss: 0.1732 - accuracy: 0.9871 - val_loss: 11.8647 - val_accuracy: 0.0845\n",
            "Epoch 137/150\n",
            "171/171 [==============================] - 3s 15ms/step - loss: 0.1654 - accuracy: 0.9886 - val_loss: 11.9163 - val_accuracy: 0.0848\n",
            "Epoch 138/150\n",
            "171/171 [==============================] - 3s 15ms/step - loss: 0.1779 - accuracy: 0.9854 - val_loss: 11.9788 - val_accuracy: 0.0841\n",
            "Epoch 139/150\n",
            "171/171 [==============================] - 3s 15ms/step - loss: 0.1699 - accuracy: 0.9869 - val_loss: 11.9994 - val_accuracy: 0.0843\n",
            "Epoch 140/150\n",
            "171/171 [==============================] - 3s 15ms/step - loss: 0.1537 - accuracy: 0.9899 - val_loss: 12.0776 - val_accuracy: 0.0839\n",
            "Epoch 141/150\n",
            "171/171 [==============================] - 3s 15ms/step - loss: 0.1422 - accuracy: 0.9920 - val_loss: 12.0941 - val_accuracy: 0.0834\n",
            "Epoch 142/150\n",
            "171/171 [==============================] - 3s 15ms/step - loss: 0.1354 - accuracy: 0.9925 - val_loss: 12.1534 - val_accuracy: 0.0845\n",
            "Epoch 143/150\n",
            "171/171 [==============================] - 3s 15ms/step - loss: 0.1315 - accuracy: 0.9932 - val_loss: 12.2052 - val_accuracy: 0.0841\n",
            "Epoch 144/150\n",
            "171/171 [==============================] - 3s 15ms/step - loss: 0.1296 - accuracy: 0.9928 - val_loss: 12.2493 - val_accuracy: 0.0839\n",
            "Epoch 145/150\n",
            "171/171 [==============================] - 3s 15ms/step - loss: 0.1229 - accuracy: 0.9943 - val_loss: 12.3108 - val_accuracy: 0.0826\n",
            "Epoch 146/150\n",
            "171/171 [==============================] - 3s 15ms/step - loss: 0.1167 - accuracy: 0.9945 - val_loss: 12.3489 - val_accuracy: 0.0845\n",
            "Epoch 147/150\n",
            "171/171 [==============================] - 3s 15ms/step - loss: 0.1165 - accuracy: 0.9943 - val_loss: 12.3939 - val_accuracy: 0.0870\n",
            "Epoch 148/150\n",
            "171/171 [==============================] - 3s 15ms/step - loss: 0.1176 - accuracy: 0.9938 - val_loss: 12.4694 - val_accuracy: 0.0814\n",
            "Epoch 149/150\n",
            "171/171 [==============================] - 3s 15ms/step - loss: 0.1065 - accuracy: 0.9959 - val_loss: 12.4666 - val_accuracy: 0.0815\n",
            "Epoch 150/150\n",
            "171/171 [==============================] - 3s 15ms/step - loss: 0.1039 - accuracy: 0.9960 - val_loss: 12.5614 - val_accuracy: 0.0799\n"
          ],
          "name": "stdout"
        },
        {
          "output_type": "execute_result",
          "data": {
            "text/plain": [
              "<tensorflow.python.keras.callbacks.History at 0x7fe27ea3a8d0>"
            ]
          },
          "metadata": {
            "tags": []
          },
          "execution_count": 9
        }
      ]
    },
    {
      "cell_type": "code",
      "metadata": {
        "id": "mg9WSEwYeMAH"
      },
      "source": [
        "reverse_word_map = {v:k for k,v in word_index.items()} ## Create word to idx map using tokenizer.word_index"
      ],
      "execution_count": 10,
      "outputs": []
    },
    {
      "cell_type": "code",
      "metadata": {
        "id": "A_mhL0J0eQku"
      },
      "source": [
        "# Complete the code to return next n words greedily\n",
        "def next_tokens(input_str, n): \n",
        "\tprint (\"Seed: \\n\",  input_str)\n",
        "\ttokens = tokenizer.texts_to_sequences([input_str])\n",
        "\tnext_words = []\n",
        "\tfor i in range(n):\n",
        "\t\tprediction = model.predict( np.array(tokens) , verbose=0)[0]\n",
        "\t\t# get next word index. Use reverse_word_map to get the word\n",
        "\t\tnext_word_index = np.argmax(prediction) + 1\n",
        "\t\tnext_word = reverse_word_map[next_word_index]\n",
        "\t\ttokens[0].append(next_word_index)\n",
        "\t\ttokens[0].pop(0)\n",
        "\t\tnext_words.append(next_word)\n",
        "\tfinal_string = ' '.join(next_words)\n",
        "\treturn final_string"
      ],
      "execution_count": 11,
      "outputs": []
    },
    {
      "cell_type": "code",
      "metadata": {
        "id": "gZ_NTQezeWYO",
        "outputId": "f6820895-15bb-4074-f16c-a63cf74ca1df",
        "colab": {
          "base_uri": "https://localhost:8080/"
        }
      },
      "source": [
        "# pick a random seed\n",
        "numpy.random.seed(0)\n",
        "start = numpy.random.randint(0, len(dataX)-1)\n",
        "pattern = dataX[start]\n",
        "input_str = ' '.join([reverse_word_map[value] for value in pattern])\n",
        "\n",
        "print(\"Next 10 words: \\n\", next_tokens( input_str , 10))"
      ],
      "execution_count": 29,
      "outputs": [
        {
          "output_type": "stream",
          "text": [
            "Seed: \n",
            " let me think was i the same when i got up this morning i almost think i can remember feeling a little different but if i m not the same the next question is who in the world am i ah that s the great puzzle and she began thinking\n",
            "Next 10 words: \n",
            " why be back a he so i would not queen\n"
          ],
          "name": "stdout"
        }
      ]
    },
    {
      "cell_type": "code",
      "metadata": {
        "id": "u-x8W-OSVgNi",
        "outputId": "2d483c56-7f31-4f6f-fb1e-502b02e44f57",
        "colab": {
          "base_uri": "https://localhost:8080/"
        }
      },
      "source": [
        "input_str = \"The boy laughed at the fright he had caused. This time, the villagers left angrily. The third day, as the boy went up\\\n",
        " the small hill, he suddenly saw a wolf attacking his sheep. He cried as hard as he could, “Wolf! Wolf! Wolf!”, but not \\\n",
        " a single villager came to help him. The villagers thought that he was trying to fool them again and did not come to rescue \\\n",
        " him or his sheep.\"\n",
        "\n",
        "# Use first 50 tokens from given input_str as input.(Use tokenizer to split to take first 50)\n",
        "tokens = tokenizer.texts_to_sequences([input_str])[0][:50]\n",
        "input_str = ' '.join([reverse_word_map[value] for value in tokens])\n",
        "print(\"Next 10 words: \\n\", next_tokens( input_str , 10))"
      ],
      "execution_count": 30,
      "outputs": [
        {
          "output_type": "stream",
          "text": [
            "Seed: \n",
            " the boy laughed at the fright he had caused this time the <OOV> left angrily the <OOV> day as the boy went up the small <OOV> he suddenly saw a <OOV> <OOV> his sheep he cried as hard as he could <OOV> <OOV> <OOV> <OOV> but not a <OOV> <OOV>\n",
            "Next 10 words: \n",
            " of and and and and be and be natural as\n"
          ],
          "name": "stdout"
        }
      ]
    },
    {
      "cell_type": "markdown",
      "metadata": {
        "id": "B5_R5Tngo3_D"
      },
      "source": [
        "# Character based LSTM Model 1"
      ]
    },
    {
      "cell_type": "code",
      "metadata": {
        "id": "2zZaHsejo57p"
      },
      "source": [
        "# User the preprocess data and create raw_text\n",
        "data=\"\"\n",
        "with open(\"corpus.txt\") as f:\n",
        "  data=f.read()\n",
        "raw_text = data.lower() # Making the text lowercase\n",
        "raw_text = re.sub('_',' ',raw_text) # Replacing underscores by spaces for words like _never_\n",
        "raw_text = re.sub('-',' ',raw_text) # Replacing dashes by spaces for words like rabbit-hole\n",
        "\n",
        "# create mapping of unique characters to integers\n",
        "chars = sorted(list(set(raw_text)))\n",
        "\n",
        "char_to_int = {ch:i for i,ch in enumerate(chars)}"
      ],
      "execution_count": 31,
      "outputs": []
    },
    {
      "cell_type": "code",
      "metadata": {
        "id": "lkVVDbump0Wg",
        "outputId": "c4d81639-fd27-4f13-bf9e-76063ba66e74",
        "colab": {
          "base_uri": "https://localhost:8080/"
        }
      },
      "source": [
        "# Print the total characters and character vacob size\n",
        "n_chars = len(raw_text)\n",
        "n_vocab = len(chars)\n",
        "print(\"Total characters:\",n_chars)\n",
        "print(\"Character vocab size:\",n_vocab)"
      ],
      "execution_count": 32,
      "outputs": [
        {
          "output_type": "stream",
          "text": [
            "Total characters: 142477\n",
            "Character vocab size: 44\n"
          ],
          "name": "stdout"
        }
      ]
    },
    {
      "cell_type": "code",
      "metadata": {
        "id": "2aVserymqE1b",
        "outputId": "3b4e8712-deed-45bb-df99-919930f999e0",
        "colab": {
          "base_uri": "https://localhost:8080/"
        }
      },
      "source": [
        "'''\n",
        "Prepare dataset where the input is sequence of 100 characters and target is next character.\n",
        "'''\n",
        "seq_length = 100\n",
        "dataX = []\n",
        "dataY = []\n",
        "for i in range(0, n_chars - seq_length, 1):\n",
        "    # Write code here\n",
        "    seq_in = [char_to_int[ch] for ch in raw_text[i:i + seq_length]]\n",
        "    seq_out = char_to_int[raw_text[i + seq_length]]\n",
        "    dataX.append(seq_in)\n",
        "    dataY.append(seq_out)    \n",
        "\n",
        "\n",
        "n_patterns = len(dataX)\n",
        "print (\"Total Patterns: \", n_patterns)"
      ],
      "execution_count": 33,
      "outputs": [
        {
          "output_type": "stream",
          "text": [
            "Total Patterns:  142377\n"
          ],
          "name": "stdout"
        }
      ]
    },
    {
      "cell_type": "code",
      "metadata": {
        "id": "Ic4yf4hNqc7T"
      },
      "source": [
        "# reshape X to be [samples, time steps, features]\n",
        "X = numpy.array(dataX)\n",
        "\n",
        "# one hot encode the output variable\n",
        "dataY = numpy.array(dataY)\n",
        "y = np_utils.to_categorical(dataY)"
      ],
      "execution_count": 34,
      "outputs": []
    },
    {
      "cell_type": "code",
      "metadata": {
        "id": "XvawnjFVqhMi"
      },
      "source": [
        "embedding_dim =100\n",
        "max_length =100"
      ],
      "execution_count": 35,
      "outputs": []
    },
    {
      "cell_type": "code",
      "metadata": {
        "id": "ek5DqNeTqkAZ",
        "outputId": "cd50f8c3-82d6-4140-e78e-29b572116249",
        "colab": {
          "base_uri": "https://localhost:8080/"
        }
      },
      "source": [
        "model = Sequential()\n",
        "model.add(Embedding(n_vocab, embedding_dim, input_length=max_length))\n",
        "model.add(LSTM(256))\n",
        "model.add(Dropout(0.2))\n",
        "model.add(Dense(y.shape[1], activation='softmax'))\n",
        "model.compile(loss='categorical_crossentropy', optimizer='adam')\n",
        "model.summary()"
      ],
      "execution_count": 36,
      "outputs": [
        {
          "output_type": "stream",
          "text": [
            "Model: \"sequential_1\"\n",
            "_________________________________________________________________\n",
            "Layer (type)                 Output Shape              Param #   \n",
            "=================================================================\n",
            "embedding_1 (Embedding)      (None, 100, 100)          4400      \n",
            "_________________________________________________________________\n",
            "lstm_1 (LSTM)                (None, 256)               365568    \n",
            "_________________________________________________________________\n",
            "dropout (Dropout)            (None, 256)               0         \n",
            "_________________________________________________________________\n",
            "dense_1 (Dense)              (None, 44)                11308     \n",
            "=================================================================\n",
            "Total params: 381,276\n",
            "Trainable params: 381,276\n",
            "Non-trainable params: 0\n",
            "_________________________________________________________________\n"
          ],
          "name": "stdout"
        }
      ]
    },
    {
      "cell_type": "code",
      "metadata": {
        "id": "gFoStJIOqpM6",
        "outputId": "007464fb-96e5-4fc4-d538-9aae132b419a",
        "colab": {
          "base_uri": "https://localhost:8080/"
        }
      },
      "source": [
        "model.fit(X, y, epochs=20, batch_size=128)"
      ],
      "execution_count": 37,
      "outputs": [
        {
          "output_type": "stream",
          "text": [
            "Epoch 1/20\n",
            "1113/1113 [==============================] - 20s 18ms/step - loss: 2.2024\n",
            "Epoch 2/20\n",
            "1113/1113 [==============================] - 20s 18ms/step - loss: 1.6962\n",
            "Epoch 3/20\n",
            "1113/1113 [==============================] - 20s 18ms/step - loss: 1.4984\n",
            "Epoch 4/20\n",
            "1113/1113 [==============================] - 20s 18ms/step - loss: 1.3819\n",
            "Epoch 5/20\n",
            "1113/1113 [==============================] - 19s 17ms/step - loss: 1.3028\n",
            "Epoch 6/20\n",
            "1113/1113 [==============================] - 20s 18ms/step - loss: 1.2426\n",
            "Epoch 7/20\n",
            "1113/1113 [==============================] - 20s 18ms/step - loss: 1.1917\n",
            "Epoch 8/20\n",
            "1113/1113 [==============================] - 20s 18ms/step - loss: 1.1505\n",
            "Epoch 9/20\n",
            "1113/1113 [==============================] - 20s 18ms/step - loss: 1.1101\n",
            "Epoch 10/20\n",
            "1113/1113 [==============================] - 20s 18ms/step - loss: 1.0783\n",
            "Epoch 11/20\n",
            "1113/1113 [==============================] - 19s 17ms/step - loss: 1.0472\n",
            "Epoch 12/20\n",
            "1113/1113 [==============================] - 20s 18ms/step - loss: 1.0144\n",
            "Epoch 13/20\n",
            "1113/1113 [==============================] - 20s 18ms/step - loss: 0.9910\n",
            "Epoch 14/20\n",
            "1113/1113 [==============================] - 20s 18ms/step - loss: 0.9651\n",
            "Epoch 15/20\n",
            "1113/1113 [==============================] - 19s 17ms/step - loss: 0.9402\n",
            "Epoch 16/20\n",
            "1113/1113 [==============================] - 19s 17ms/step - loss: 0.9206\n",
            "Epoch 17/20\n",
            "1113/1113 [==============================] - 20s 18ms/step - loss: 0.8997\n",
            "Epoch 18/20\n",
            "1113/1113 [==============================] - 20s 18ms/step - loss: 0.8805\n",
            "Epoch 19/20\n",
            "1113/1113 [==============================] - 20s 18ms/step - loss: 0.8633\n",
            "Epoch 20/20\n",
            "1113/1113 [==============================] - 19s 17ms/step - loss: 0.8488\n"
          ],
          "name": "stdout"
        },
        {
          "output_type": "execute_result",
          "data": {
            "text/plain": [
              "<tensorflow.python.keras.callbacks.History at 0x7fe27e32f668>"
            ]
          },
          "metadata": {
            "tags": []
          },
          "execution_count": 37
        }
      ]
    },
    {
      "cell_type": "code",
      "metadata": {
        "id": "ekXYhzeUrGaq"
      },
      "source": [
        "#implement mapping of integer to character\n",
        "int_to_char = {i:ch for i,ch in enumerate(chars)}"
      ],
      "execution_count": 38,
      "outputs": []
    },
    {
      "cell_type": "code",
      "metadata": {
        "id": "OixPrw6vq15j"
      },
      "source": [
        "'''\n",
        "Complete code below to get the generated string using the model.\n",
        "'''\n",
        "def predict_next_100_chars(pattern,x):\n",
        "\tfinal_string = ''\n",
        "\tseq_in = [char_to_int[ch] for ch in pattern]\n",
        "\tfor i in range(x):\n",
        "\t\t# Complete Code\n",
        "\t\tprediction = model.predict(np.array([seq_in]), verbose=0)[0]\n",
        "\t\tchar_index = np.argmax(prediction)\n",
        "\t\tchar = int_to_char[char_index]\n",
        "\t\tseq_in.append(char_index)\n",
        "\t\tseq_in.pop(0)\n",
        "\t\tfinal_string += char\n",
        "\treturn final_string"
      ],
      "execution_count": 39,
      "outputs": []
    },
    {
      "cell_type": "code",
      "metadata": {
        "id": "vHH_I5QiUxnY",
        "outputId": "ba806a95-c477-4de5-e650-e2786ea031ec",
        "colab": {
          "base_uri": "https://localhost:8080/"
        }
      },
      "source": [
        "# pick a random seed\n",
        "numpy.random.seed(30)\n",
        "start = numpy.random.randint(0, len(dataX)-1)\n",
        "pattern = dataX[start]\n",
        "input_str = ''.join([int_to_char[value] for value in pattern])\n",
        "\n",
        "print(\"Input string: \\n\",input_str)\n",
        "print(\"Next 200 chars: \\n\",predict_next_100_chars(input_str,200))"
      ],
      "execution_count": 53,
      "outputs": [
        {
          "output_type": "stream",
          "text": [
            "Input string: \n",
            "  become very white; and yet you incessantly stand on your head— do you think, at your age, it is rig\n",
            "Next 200 chars: \n",
            " ht,” said the mock turtle, “but it makes me three little girls and more to sea in the same time,” said the mock turtle, “but it makes me three little girls and more to sea in the same time,” said the \n"
          ],
          "name": "stdout"
        }
      ]
    },
    {
      "cell_type": "code",
      "metadata": {
        "id": "iutpuJAgrgU8",
        "outputId": "50d1ad90-a3c6-4935-fccc-90341961ffe5",
        "colab": {
          "base_uri": "https://localhost:8080/"
        }
      },
      "source": [
        "input_str = \"The boy laughed at the fright he had caused. This time, the villagers left angrily. The third day, as the boy went up\\\n",
        " the small hill, he suddenly saw a wolf attacking his sheep. He cried as hard as he could, “Wolf! Wolf! Wolf!”, but not \\\n",
        " a single villager came to help him. The villagers thought that he was trying to fool them again and did not come to rescue \\\n",
        " him or his sheep.\"\n",
        "\n",
        " # Use first 100 characeters from given input_str as input and generate next 200 characters.\n",
        "input_str = input_str[:100].lower()\n",
        "\n",
        "print(\"Input string: \\n\",input_str) \n",
        "print(\"Next 200 chars: \\n\",predict_next_100_chars(input_str,200))"
      ],
      "execution_count": 54,
      "outputs": [
        {
          "output_type": "stream",
          "text": [
            "Input string: \n",
            " the boy laughed at the fright he had caused. this time, the villagers left angrily. the third day, a\n",
            "Next 200 chars: \n",
            " nd the moral of that is—‘the dormouse should be the right way is to go down here in the same time,” said the mock turtle, “but it makes me three little girls and more to sea in the same time,” said th\n"
          ],
          "name": "stdout"
        }
      ]
    },
    {
      "cell_type": "markdown",
      "metadata": {
        "id": "n8shbcukr0tJ"
      },
      "source": [
        "## Character based LSTM Model 2\n"
      ]
    },
    {
      "cell_type": "code",
      "metadata": {
        "id": "BWBPCrTdr46U"
      },
      "source": [
        "model1 = Sequential()\n",
        "model1.add(Embedding(n_vocab, embedding_dim, input_length=max_length))\n",
        "model1.add(LSTM(256, input_shape=(X.shape[1], embedding_dim),return_sequences=True))\n",
        "model1.add(Dropout(0.2))\n",
        "model1.add(LSTM(256))\n",
        "model1.add(Dropout(0.2))\n",
        "model1.add(Dense(y.shape[1], activation='softmax'))\n",
        "model1.compile(loss='categorical_crossentropy', optimizer='adam')"
      ],
      "execution_count": 55,
      "outputs": []
    },
    {
      "cell_type": "code",
      "metadata": {
        "id": "7ZxrtjFIr63L",
        "outputId": "08e42db4-236f-45dd-90e7-470273eac774",
        "colab": {
          "base_uri": "https://localhost:8080/"
        }
      },
      "source": [
        "model1.fit(X, y, epochs=20, batch_size=64)"
      ],
      "execution_count": 56,
      "outputs": [
        {
          "output_type": "stream",
          "text": [
            "Epoch 1/20\n",
            "2225/2225 [==============================] - 50s 22ms/step - loss: 2.1099\n",
            "Epoch 2/20\n",
            "2225/2225 [==============================] - 49s 22ms/step - loss: 1.5601\n",
            "Epoch 3/20\n",
            "2225/2225 [==============================] - 49s 22ms/step - loss: 1.3838\n",
            "Epoch 4/20\n",
            "2225/2225 [==============================] - 49s 22ms/step - loss: 1.2876\n",
            "Epoch 5/20\n",
            "2225/2225 [==============================] - 50s 22ms/step - loss: 1.2170\n",
            "Epoch 6/20\n",
            "2225/2225 [==============================] - 49s 22ms/step - loss: 1.1640\n",
            "Epoch 7/20\n",
            "2225/2225 [==============================] - 49s 22ms/step - loss: 1.1201\n",
            "Epoch 8/20\n",
            "2225/2225 [==============================] - 49s 22ms/step - loss: 1.0843\n",
            "Epoch 9/20\n",
            "2225/2225 [==============================] - 49s 22ms/step - loss: 1.0533\n",
            "Epoch 10/20\n",
            "2225/2225 [==============================] - 49s 22ms/step - loss: 1.0194\n",
            "Epoch 11/20\n",
            "2225/2225 [==============================] - 50s 22ms/step - loss: 0.9963\n",
            "Epoch 12/20\n",
            "2225/2225 [==============================] - 49s 22ms/step - loss: 0.9753\n",
            "Epoch 13/20\n",
            "2225/2225 [==============================] - 49s 22ms/step - loss: 0.9562\n",
            "Epoch 14/20\n",
            "2225/2225 [==============================] - 49s 22ms/step - loss: 0.9414\n",
            "Epoch 15/20\n",
            "2225/2225 [==============================] - 50s 22ms/step - loss: 0.9229\n",
            "Epoch 16/20\n",
            "2225/2225 [==============================] - 49s 22ms/step - loss: 0.9113\n",
            "Epoch 17/20\n",
            "2225/2225 [==============================] - 49s 22ms/step - loss: 0.8959\n",
            "Epoch 18/20\n",
            "2225/2225 [==============================] - 50s 22ms/step - loss: 0.8822\n",
            "Epoch 19/20\n",
            "2225/2225 [==============================] - 49s 22ms/step - loss: 0.8752\n",
            "Epoch 20/20\n",
            "2225/2225 [==============================] - 50s 22ms/step - loss: 0.8676\n"
          ],
          "name": "stdout"
        },
        {
          "output_type": "execute_result",
          "data": {
            "text/plain": [
              "<tensorflow.python.keras.callbacks.History at 0x7fe20c2962b0>"
            ]
          },
          "metadata": {
            "tags": []
          },
          "execution_count": 56
        }
      ]
    },
    {
      "cell_type": "code",
      "metadata": {
        "id": "L6RTfHN6r8wh"
      },
      "source": [
        "# Generate the sequence similar to above methods\n",
        "\n",
        "'''\n",
        "Complete code below to get the generated string using the model.\n",
        "'''\n",
        "def predict_next_100_chars(pattern,x):\n",
        "\tfinal_string = ''\n",
        "\tseq_in = [char_to_int[ch] for ch in pattern]\n",
        "\tfor i in range(x):\n",
        "\t\t# Complete Code\n",
        "\t\tprediction = model1.predict(np.array([seq_in]), verbose=0)[0]\n",
        "\t\tchar_index = np.argmax(prediction)\n",
        "\t\tchar = int_to_char[char_index]\n",
        "\t\tseq_in.append(char_index)\n",
        "\t\tseq_in.pop(0)\n",
        "\t\tfinal_string += char\n",
        "\treturn final_string"
      ],
      "execution_count": 57,
      "outputs": []
    },
    {
      "cell_type": "code",
      "metadata": {
        "id": "5CKJXZ4tYmL0",
        "outputId": "e154765c-1c92-4c0d-b85b-d1b9cddc76f7",
        "colab": {
          "base_uri": "https://localhost:8080/"
        }
      },
      "source": [
        "# pick a random seed\n",
        "numpy.random.seed(30)\n",
        "start = numpy.random.randint(0, len(dataX)-1)\n",
        "pattern = dataX[start]\n",
        "input_str = ''.join([int_to_char[value] for value in pattern])\n",
        "\n",
        "print(\"Input string: \\n\",input_str)\n",
        "print(\"Next 200 chars: \\n\",predict_next_100_chars(input_str,200))"
      ],
      "execution_count": 67,
      "outputs": [
        {
          "output_type": "stream",
          "text": [
            "Input string: \n",
            "  become very white; and yet you incessantly stand on your head— do you think, at your age, it is rig\n",
            "Next 200 chars: \n",
            " ht,” said the duchess, “and the dormouse show you how the dormouse shower things!” alice was soon found herself up and said, “and the dormouse show you how the dormouse shower things!” alice was soon \n"
          ],
          "name": "stdout"
        }
      ]
    },
    {
      "cell_type": "code",
      "metadata": {
        "id": "YyRCfLe5YmL7",
        "outputId": "1b503fc0-4147-4567-88ef-89a5cec4c275",
        "colab": {
          "base_uri": "https://localhost:8080/"
        }
      },
      "source": [
        "input_str = \"The boy laughed at the fright he had caused. This time, the villagers left angrily. The third day, as the boy went up\\\n",
        " the small hill, he suddenly saw a wolf attacking his sheep. He cried as hard as he could, “Wolf! Wolf! Wolf!”, but not \\\n",
        " a single villager came to help him. The villagers thought that he was trying to fool them again and did not come to rescue \\\n",
        " him or his sheep.\"\n",
        "\n",
        " # Use first 100 characeters from given input_str as input and generate next 200 characters.\n",
        "input_str = input_str[:100].lower()\n",
        "\n",
        "print(\"Input string: \\n\",input_str)\n",
        "print(\"Next 200 chars: \\n\",predict_next_100_chars(input_str,200))"
      ],
      "execution_count": 68,
      "outputs": [
        {
          "output_type": "stream",
          "text": [
            "Input string: \n",
            " the boy laughed at the fright he had caused. this time, the villagers left angrily. the third day, a\n",
            "Next 200 chars: \n",
            " nd the same shook its head she was now and then a great deal frightened to say “what  can  the mock turtle you can  the mock turtle yet,” said the duchess, “and the dormouse show you how the dormouse \n"
          ],
          "name": "stdout"
        }
      ]
    },
    {
      "cell_type": "markdown",
      "metadata": {
        "id": "XPrjxjoNsaQC"
      },
      "source": [
        "# Questions"
      ]
    },
    {
      "cell_type": "markdown",
      "metadata": {
        "id": "kW5_IlBeZAPq"
      },
      "source": [
        "**Question:** What are your observations based on the model(all) outputs on train data(in domain) vs unseen data(out of domain) ?"
      ]
    },
    {
      "cell_type": "markdown",
      "metadata": {
        "id": "YryzP1upZv5h"
      },
      "source": [
        "**Answer:** On the first sentence which is in the train data(in domain), the predictions of the models are better than on the second sentence which is unseen data(out of domain). The model outputs on train data are generally more realistic and contain fewer spelling mistakes as compared to unseen data. This is due to unseen phrases not encountered during training. "
      ]
    },
    {
      "cell_type": "markdown",
      "metadata": {
        "id": "aBzCD0I0Z3uP"
      },
      "source": [
        "**Question:** What did you observe in the outputs of char LSTM model1 vs char LSTM model2 ?"
      ]
    },
    {
      "cell_type": "markdown",
      "metadata": {
        "id": "PUHxHmXZaNdn"
      },
      "source": [
        "**Answer:** The text predicted by char LSTM model2 looks more realistic and there are generally fewer spelling mistakes as compared to that predicted by char LSTM model1. The outputs for model2 are generally better than that of model1 but they are still quite nonsensical. This is because the char LSTM model2 has 2 layers  and is larger than the char LSTM model1 which has only 1 layer. So, model2 is able to learn better."
      ]
    },
    {
      "cell_type": "markdown",
      "metadata": {
        "id": "rShXR9sYsc4D"
      },
      "source": [
        "# Bonus (Not to be graded)"
      ]
    },
    {
      "cell_type": "markdown",
      "metadata": {
        "id": "j2N-l6VSshhC"
      },
      "source": [
        "## Transformer based language model (Bert)\n",
        "You can run the below cells to predict the next word using pretrained BERT model. "
      ]
    },
    {
      "cell_type": "code",
      "metadata": {
        "id": "67c13Yx9sgiW",
        "outputId": "a04531fd-3cc3-4490-9870-6f03ac3e5cff",
        "colab": {
          "base_uri": "https://localhost:8080/"
        }
      },
      "source": [
        "!pip install transformers"
      ],
      "execution_count": 69,
      "outputs": [
        {
          "output_type": "stream",
          "text": [
            "Requirement already satisfied: transformers in /usr/local/lib/python3.6/dist-packages (3.5.1)\n",
            "Requirement already satisfied: sentencepiece==0.1.91 in /usr/local/lib/python3.6/dist-packages (from transformers) (0.1.91)\n",
            "Requirement already satisfied: regex!=2019.12.17 in /usr/local/lib/python3.6/dist-packages (from transformers) (2019.12.20)\n",
            "Requirement already satisfied: requests in /usr/local/lib/python3.6/dist-packages (from transformers) (2.23.0)\n",
            "Requirement already satisfied: dataclasses; python_version < \"3.7\" in /usr/local/lib/python3.6/dist-packages (from transformers) (0.7)\n",
            "Requirement already satisfied: numpy in /usr/local/lib/python3.6/dist-packages (from transformers) (1.18.5)\n",
            "Requirement already satisfied: filelock in /usr/local/lib/python3.6/dist-packages (from transformers) (3.0.12)\n",
            "Requirement already satisfied: packaging in /usr/local/lib/python3.6/dist-packages (from transformers) (20.4)\n",
            "Requirement already satisfied: protobuf in /usr/local/lib/python3.6/dist-packages (from transformers) (3.12.4)\n",
            "Requirement already satisfied: tqdm>=4.27 in /usr/local/lib/python3.6/dist-packages (from transformers) (4.41.1)\n",
            "Requirement already satisfied: sacremoses in /usr/local/lib/python3.6/dist-packages (from transformers) (0.0.43)\n",
            "Requirement already satisfied: tokenizers==0.9.3 in /usr/local/lib/python3.6/dist-packages (from transformers) (0.9.3)\n",
            "Requirement already satisfied: certifi>=2017.4.17 in /usr/local/lib/python3.6/dist-packages (from requests->transformers) (2020.6.20)\n",
            "Requirement already satisfied: idna<3,>=2.5 in /usr/local/lib/python3.6/dist-packages (from requests->transformers) (2.10)\n",
            "Requirement already satisfied: urllib3!=1.25.0,!=1.25.1,<1.26,>=1.21.1 in /usr/local/lib/python3.6/dist-packages (from requests->transformers) (1.24.3)\n",
            "Requirement already satisfied: chardet<4,>=3.0.2 in /usr/local/lib/python3.6/dist-packages (from requests->transformers) (3.0.4)\n",
            "Requirement already satisfied: pyparsing>=2.0.2 in /usr/local/lib/python3.6/dist-packages (from packaging->transformers) (2.4.7)\n",
            "Requirement already satisfied: six in /usr/local/lib/python3.6/dist-packages (from packaging->transformers) (1.15.0)\n",
            "Requirement already satisfied: setuptools in /usr/local/lib/python3.6/dist-packages (from protobuf->transformers) (50.3.2)\n",
            "Requirement already satisfied: joblib in /usr/local/lib/python3.6/dist-packages (from sacremoses->transformers) (0.17.0)\n",
            "Requirement already satisfied: click in /usr/local/lib/python3.6/dist-packages (from sacremoses->transformers) (7.1.2)\n"
          ],
          "name": "stdout"
        }
      ]
    },
    {
      "cell_type": "code",
      "metadata": {
        "id": "5gF2nncdsqcx"
      },
      "source": [
        "import os\n",
        "import torch\n",
        "import string\n",
        "from transformers import BertTokenizer, BertForMaskedLM"
      ],
      "execution_count": 70,
      "outputs": []
    },
    {
      "cell_type": "code",
      "metadata": {
        "id": "_tppcQN298Qs"
      },
      "source": [
        "def load_model(model_name):\n",
        "  try:\n",
        "    if model_name.lower() == \"bert\":\n",
        "      bert_tokenizer = BertTokenizer.from_pretrained('bert-base-uncased')\n",
        "      bert_model = BertForMaskedLM.from_pretrained('bert-base-uncased').eval()\n",
        "      return bert_tokenizer,bert_model\n",
        "  except Exception as e:\n",
        "    pass"
      ],
      "execution_count": 71,
      "outputs": []
    },
    {
      "cell_type": "code",
      "metadata": {
        "id": "pOcQKOGG-H8F"
      },
      "source": [
        "def decode(tokenizer, pred_idx, top_clean):\n",
        "  ignore_tokens = string.punctuation + '[PAD]'\n",
        "  tokens = []\n",
        "  for w in pred_idx:\n",
        "    token = ''.join(tokenizer.decode(w).split())\n",
        "    if token not in ignore_tokens:\n",
        "      tokens.append(token.replace('##', ''))\n",
        "  return '\\n'.join(tokens[:top_clean])"
      ],
      "execution_count": 72,
      "outputs": []
    },
    {
      "cell_type": "code",
      "metadata": {
        "id": "CQkjSmGv-TxO"
      },
      "source": [
        "def encode(tokenizer, text_sentence, add_special_tokens=True):\n",
        "  text_sentence = text_sentence.replace('<mask>', tokenizer.mask_token)\n",
        "  # if <mask> is the last token, append a \".\" so that models dont predict punctuation.\n",
        "  if tokenizer.mask_token == text_sentence.split()[-1]:\n",
        "    text_sentence += ' .'\n",
        "  input_ids = torch.tensor([tokenizer.encode(text_sentence, add_special_tokens=add_special_tokens)])\n",
        "  mask_idx = torch.where(input_ids == tokenizer.mask_token_id)[1].tolist()[0]\n",
        "  return input_ids, mask_idx"
      ],
      "execution_count": 73,
      "outputs": []
    },
    {
      "cell_type": "code",
      "metadata": {
        "id": "fFWOHB5n-ZQh"
      },
      "source": [
        "def get_all_predictions(text_sentence, top_clean=5):\n",
        "  input_ids, mask_idx = encode(bert_tokenizer, text_sentence)\n",
        "  with torch.no_grad():\n",
        "    predict = bert_model(input_ids)[0]\n",
        "    print(predict.shape)\n",
        "    \n",
        "    bert = decode(bert_tokenizer, predict[0, mask_idx, :].topk(top_k).indices.tolist(), top_clean)\n",
        "  return {'bert': bert}"
      ],
      "execution_count": 74,
      "outputs": []
    },
    {
      "cell_type": "code",
      "metadata": {
        "id": "4lQHVc0l-igk"
      },
      "source": [
        "def get_prediction_eos(input_text):\n",
        "  try:\n",
        "    input_text += ' <mask>'\n",
        "    res = get_all_predictions(input_text, top_clean=int(top_k))\n",
        "    return res\n",
        "  except Exception as error:\n",
        "    pass"
      ],
      "execution_count": 75,
      "outputs": []
    },
    {
      "cell_type": "code",
      "metadata": {
        "id": "XQZ-swMD9lyU",
        "outputId": "aa0d1864-31f1-42bd-bea8-1db0a66c3e52",
        "colab": {
          "base_uri": "https://localhost:8080/"
        }
      },
      "source": [
        "# Below code predicts the next top_k words. You can modify this to get next n words using top_k=1 and greedy decoding it. \n",
        "top_k= 3\n",
        "print('Predict next ', top_k, ' words')\n",
        "model_name = 'BERT'\n",
        "bert_tokenizer, bert_model  = load_model(model_name) \n",
        "input_text = \"\" ### GIVE YOUR INPUT STRING HERE\n",
        "res = get_prediction_eos(input_text)\n",
        "answer = []\n",
        "print(res['bert'].split(\"\\n\"))\n",
        "for i in res['bert'].split(\"\\n\"):\n",
        "  answer.append(i)\n",
        "  answer_as_string = \"    \".join(answer)\n",
        "\n",
        "print(answer_as_string)"
      ],
      "execution_count": 76,
      "outputs": [
        {
          "output_type": "stream",
          "text": [
            "Predict next  3  words\n"
          ],
          "name": "stdout"
        },
        {
          "output_type": "stream",
          "text": [
            "Some weights of the model checkpoint at bert-base-uncased were not used when initializing BertForMaskedLM: ['cls.seq_relationship.weight', 'cls.seq_relationship.bias']\n",
            "- This IS expected if you are initializing BertForMaskedLM from the checkpoint of a model trained on another task or with another architecture (e.g. initializing a BertForSequenceClassification model from a BertForPreTraining model).\n",
            "- This IS NOT expected if you are initializing BertForMaskedLM from the checkpoint of a model that you expect to be exactly identical (initializing a BertForSequenceClassification model from a BertForSequenceClassification model).\n"
          ],
          "name": "stderr"
        },
        {
          "output_type": "stream",
          "text": [
            "torch.Size([1, 4, 30522])\n",
            "['p', 'vol', 'math']\n",
            "p    vol    math\n"
          ],
          "name": "stdout"
        }
      ]
    }
  ]
}