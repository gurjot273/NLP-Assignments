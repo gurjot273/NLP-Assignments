{
  "nbformat": 4,
  "nbformat_minor": 0,
  "metadata": {
    "kernelspec": {
      "display_name": "Python 3",
      "language": "python",
      "name": "python3"
    },
    "language_info": {
      "codemirror_mode": {
        "name": "ipython",
        "version": 3
      },
      "file_extension": ".py",
      "mimetype": "text/x-python",
      "name": "python",
      "nbconvert_exporter": "python",
      "pygments_lexer": "ipython3",
      "version": "3.7.0"
    },
    "colab": {
      "name": "Assignment _4_17CS10058.ipynb",
      "provenance": []
    }
  },
  "cells": [
    {
      "cell_type": "code",
      "metadata": {
        "id": "Cj2in0d67PuO"
      },
      "source": [
        "import csv\n",
        "from collections import Counter\n",
        "import sklearn_crfsuite\n",
        "from sklearn_crfsuite import metrics\n",
        "from sklearn_crfsuite import CRF"
      ],
      "execution_count": 1,
      "outputs": []
    },
    {
      "cell_type": "code",
      "metadata": {
        "id": "1Ltr7gCH7PuR"
      },
      "source": [
        "# Reading train file\n",
        "train_file=open(\"hi-ud-train.conllu\",encoding=\"utf-8\")\n",
        "csv_reader = csv.reader(train_file, delimiter=\",\")\n",
        "data_train=[]\n",
        "for line in csv_reader:\n",
        "    data_train.append((line[0],line[1],line[2]))"
      ],
      "execution_count": 2,
      "outputs": []
    },
    {
      "cell_type": "code",
      "metadata": {
        "id": "61Ibv_Lb7PuU"
      },
      "source": [
        "# Prepare train sentences and tags, accumulating words and tags in same sentence\n",
        "sent_train=[]\n",
        "tag_train=[]\n",
        "sents=[]\n",
        "tags=[]\n",
        "for i in range(1,len(data_train)):\n",
        "    if data_train[i]!=('', '', ''):\n",
        "        sents.append(data_train[i][1])\n",
        "        tags.append(data_train[i][2])\n",
        "    else:\n",
        "      sent_train.append(sents)\n",
        "      tag_train.append(tags)\n",
        "      sents=[]\n",
        "      tags=[]\n",
        "sent_train.append(sents)\n",
        "tag_train.append(tags)"
      ],
      "execution_count": 3,
      "outputs": []
    },
    {
      "cell_type": "code",
      "metadata": {
        "id": "0UUZQrQ67PuW"
      },
      "source": [
        "# Reading test file\n",
        "test_file=open(\"hi-ud-test .conllu\",encoding=\"utf-8\")\n",
        "csv_reader = csv.reader(test_file, delimiter=\"\\t\")\n",
        "data_test=[]\n",
        "for line in csv_reader:\n",
        "    data_test.append((line[0],line[1],line[2]))"
      ],
      "execution_count": 4,
      "outputs": []
    },
    {
      "cell_type": "code",
      "metadata": {
        "id": "bwqBVirL7PuY"
      },
      "source": [
        "# Preparing test sentences and tags, accumulating words and tags in same sentence\n",
        "sent_test=[]\n",
        "tag_test=[]\n",
        "sents=[]\n",
        "tags=[]\n",
        "for i in range(1,len(data_test)):\n",
        "    if data_test[i]!=('', '', ''):\n",
        "      sents.append(data_test[i][1])\n",
        "      tags.append(data_test[i][2])\n",
        "    else:\n",
        "      sent_test.append(sents)\n",
        "      tag_test.append(tags)\n",
        "      sents=[]\n",
        "      tags=[]\n",
        "sent_test.append(sents)\n",
        "tag_test.append(tags)"
      ],
      "execution_count": 5,
      "outputs": []
    },
    {
      "cell_type": "markdown",
      "metadata": {
        "id": "NU8qrgdDEFff"
      },
      "source": [
        "## Features chosen:\n",
        "**word**           - Word  \n",
        "**is_first**       - True if word is the beginning of the sentence  \n",
        "**is_last** - True if word is the end of the sentence  \n",
        "**prefix-1**       - Word[0]  \n",
        "**prefix-2**       - Word[:2]  \n",
        "**prefix-3**       - Word[:3]  \n",
        "**suffix-1**       - Word[-1]  \n",
        "**suffix-2**       - Word[-2:]  \n",
        "**suffix-3**       - Word[-3:]  \n",
        "**prev_word**       - previous word  \n",
        "**next_word**       - next word  \n",
        "**is_numeric**       - True if all characters of word are digits  \n",
        "**is_length_one**       - True if word has single character  \n",
        "**na_at_last**       - True if word has 'na' at end  \n",
        "**ya_at_last**       - True if word has 'ya' at end  \n",
        "**is_capitalized**       - True if word starts with a capital letter  \n",
        "**is_last_a**       - True if word has 'a' at end   \n",
        "**length**       - Length of the word  \n",
        "\n",
        "## Justification:\n",
        "Prefixes,suffixes are used because certain prefixes and suffixes are common for certain parts of speeches. Similarly for previous and next words, first and last words and numeric words. 'na', 'ya' and 'a' are two common suffixes in Hindi, hence they have been used."
      ]
    },
    {
      "cell_type": "code",
      "metadata": {
        "id": "b9xB2RX97Puf"
      },
      "source": [
        "# Returns features of a word given sentence and index of word\n",
        "def features(sentence,index):\n",
        "    return {\n",
        "        'word': sentence[index],\n",
        "        'is_first': int(index == 0),\n",
        "        'is_last': int(index == len(sentence) - 1),\n",
        "        'prefix-1': sentence[index][:1],\n",
        "        'prefix-2': sentence[index][:2],\n",
        "        'prefix-3': sentence[index][:3],\n",
        "        'suffix-1': sentence[index][-1:],\n",
        "        'suffix-2': sentence[index][-2:],\n",
        "        'suffix-3': sentence[index][-3:],\n",
        "        'prev_word': '' if index == 0 else sentence[index - 1],\n",
        "        'next_word': '' if index == (len(sentence) - 1) else sentence[index + 1],\n",
        "        'is_numeric': int(sentence[index].isdigit()),\n",
        "        'is_length_one': int(len(sentence[index])==1),\n",
        "        'na_at_last': int(sentence[index][-2:].lower()=='na'),\n",
        "        'ya_at_last': int(sentence[index][-2:].lower()=='ya'),\n",
        "        'is_capitalized': int(sentence[index][:1].upper() == sentence[index][:1]),\n",
        "        'is_last_a': int(sentence[index][-1:].lower()=='a'),\n",
        "        'length': len(sentence[index]),\n",
        "    }"
      ],
      "execution_count": 6,
      "outputs": []
    },
    {
      "cell_type": "code",
      "metadata": {
        "id": "ELVl4LYt7Puh"
      },
      "source": [
        "# Transforms the words in sentences to their features and returns X,y where X are features, y are labels\n",
        "def transform_to_dataset(tagged_sentences,pos):\n",
        "    X, y = [], []\n",
        "    for i in range(len(tagged_sentences)):\n",
        "        X.append([features(tagged_sentences[i],index) for index in range(len(tagged_sentences[i]))])\n",
        "        y.append(pos[i])\n",
        "    return X, y"
      ],
      "execution_count": 7,
      "outputs": []
    },
    {
      "cell_type": "code",
      "metadata": {
        "id": "JaVKnXvJ7Pup"
      },
      "source": [
        "# Fit the crf on train set\n",
        "X_train, y_train = transform_to_dataset(sent_train,tag_train)\n",
        "X_test, y_test = transform_to_dataset(sent_test,tag_test)\n",
        "\n",
        "crf = CRF(\n",
        "    algorithm='lbfgs',\n",
        "    c1=0.1,\n",
        "    c2=0.1,\n",
        "    max_iterations=800,\n",
        "    all_possible_transitions=True\n",
        ")\n",
        "# Fit the crf on training data\n",
        "crf = crf.fit(X_train, y_train)"
      ],
      "execution_count": 8,
      "outputs": []
    },
    {
      "cell_type": "code",
      "metadata": {
        "id": "vBjd4cye9caJ",
        "outputId": "58ae78e7-39d1-49e3-b2a2-f2eafe47946f",
        "colab": {
          "base_uri": "https://localhost:8080/",
          "height": 521
        }
      },
      "source": [
        "# Predict on train set\n",
        "y_pred_train = crf.predict(X_train)\n",
        "\n",
        "#Print the scores on train data\n",
        "print('\\nFor training set\\n')\n",
        "print(metrics.flat_classification_report(y_train, y_pred_train, digits=4))\n",
        "print('precision :',metrics.flat_precision_score(y_train, y_pred_train, average='weighted'))\n",
        "print('recall :',metrics.flat_recall_score(y_train, y_pred_train, average='weighted'))\n",
        "print('f1-score :',metrics.flat_f1_score(y_train, y_pred_train, average='weighted'))\n",
        "print('accuracy :',metrics.flat_accuracy_score(y_train, y_pred_train))"
      ],
      "execution_count": 9,
      "outputs": [
        {
          "output_type": "stream",
          "text": [
            "\n",
            "For training set\n",
            "\n",
            "              precision    recall  f1-score   support\n",
            "\n",
            "         ADJ     1.0000    1.0000    1.0000       570\n",
            "         ADP     0.9978    0.9986    0.9982      1387\n",
            "         ADV     0.9820    0.9820    0.9820       111\n",
            "         AUX     0.9825    1.0000    0.9912       730\n",
            "       CCONJ     0.9934    1.0000    0.9967       150\n",
            "       COMMA     1.0000    1.0000    1.0000       114\n",
            "         DET     0.9957    0.9913    0.9935       231\n",
            "        NOUN     0.9981    0.9994    0.9987      1597\n",
            "         NUM     1.0000    1.0000    1.0000       152\n",
            "        PART     1.0000    1.0000    1.0000       163\n",
            "        PRON     0.9954    0.9954    0.9954       431\n",
            "       PROPN     1.0000    0.9958    0.9979       708\n",
            "       PUNCT     1.0000    1.0000    1.0000       564\n",
            "       SCONJ     0.9839    1.0000    0.9919        61\n",
            "        VERB     1.0000    0.9781    0.9889       640\n",
            "           X     1.0000    1.0000    1.0000         2\n",
            "\n",
            "    accuracy                         0.9966      7611\n",
            "   macro avg     0.9955    0.9963    0.9959      7611\n",
            "weighted avg     0.9966    0.9966    0.9966      7611\n",
            "\n",
            "precision : 0.9966169719760399\n",
            "recall : 0.9965838917356458\n",
            "f1-score : 0.9965814474948468\n",
            "accuracy : 0.9965838917356458\n"
          ],
          "name": "stdout"
        }
      ]
    },
    {
      "cell_type": "code",
      "metadata": {
        "id": "KrsC3M9Qn8Ux",
        "outputId": "0e73e716-b891-4627-f979-630ecaaf2727",
        "colab": {
          "base_uri": "https://localhost:8080/",
          "height": 487
        }
      },
      "source": [
        "# Predict on test data\n",
        "y_pred = crf.predict(X_test)\n",
        "\n",
        "#Print the scores on test data\n",
        "print('\\nFor test set\\n')\n",
        "print(metrics.flat_classification_report(y_test, y_pred, digits=4))\n",
        "print('precision :',metrics.flat_precision_score(y_test, y_pred, average='weighted'))\n",
        "print('recall :',metrics.flat_recall_score(y_test, y_pred, average='weighted'))\n",
        "print('f1-score :',metrics.flat_f1_score(y_test, y_pred, average='weighted'))\n",
        "print('accuracy :',metrics.flat_accuracy_score(y_test, y_pred))"
      ],
      "execution_count": 10,
      "outputs": [
        {
          "output_type": "stream",
          "text": [
            "\n",
            "For test set\n",
            "\n",
            "              precision    recall  f1-score   support\n",
            "\n",
            "         ADJ     0.6602    0.7234    0.6904        94\n",
            "         ADP     0.9677    0.9709    0.9693       309\n",
            "         ADV     0.6667    0.4762    0.5556        21\n",
            "         AUX     0.9779    0.9568    0.9673       139\n",
            "       CCONJ     1.0000    1.0000    1.0000        25\n",
            "         DET     0.8250    0.9167    0.8684        36\n",
            "        NOUN     0.7978    0.8754    0.8348       329\n",
            "         NUM     0.9200    0.9200    0.9200        25\n",
            "        PART     0.9706    1.0000    0.9851        33\n",
            "        PRON     0.9016    0.8462    0.8730        65\n",
            "       PROPN     0.6726    0.5241    0.5891       145\n",
            "       PUNCT     1.0000    1.0000    1.0000       135\n",
            "       SCONJ     0.7500    1.0000    0.8571         3\n",
            "        VERB     0.8958    0.8687    0.8821        99\n",
            "\n",
            "    accuracy                         0.8697      1458\n",
            "   macro avg     0.8576    0.8627    0.8566      1458\n",
            "weighted avg     0.8678    0.8697    0.8669      1458\n",
            "\n",
            "precision : 0.8678263656955394\n",
            "recall : 0.869684499314129\n",
            "f1-score : 0.8669460334561541\n",
            "accuracy : 0.869684499314129\n"
          ],
          "name": "stdout"
        }
      ]
    },
    {
      "cell_type": "code",
      "metadata": {
        "id": "45h2LX1volLr",
        "outputId": "fddf925e-bc05-4ded-c017-b33dba45feac",
        "colab": {
          "base_uri": "https://localhost:8080/",
          "height": 171
        }
      },
      "source": [
        "#Prints the 10 most common and least common transition Features on train set\n",
        "\n",
        "print(\"\\nTop 10 most common transitions on train set:\\n\")\n",
        "print(Counter(crf.transition_features_).most_common(10))\n",
        "\n",
        "print(\"\\nTop 10 least common transitions on train set:\\n\")\n",
        "print(Counter(crf.transition_features_).most_common()[-10:][::-1])"
      ],
      "execution_count": 11,
      "outputs": [
        {
          "output_type": "stream",
          "text": [
            "\n",
            "Top 10 most common transitions on train set:\n",
            "\n",
            "[(('VERB', 'AUX'), 4.284792), (('AUX', 'AUX'), 2.634958), (('NUM', 'NOUN'), 2.409708), (('PART', 'NUM'), 2.216555), (('PRON', 'ADP'), 2.20665), (('DET', 'NOUN'), 2.100979), (('NOUN', 'ADP'), 1.985218), (('PROPN', 'PROPN'), 1.856158), (('AUX', 'SCONJ'), 1.808891), (('ADJ', 'NOUN'), 1.791011)]\n",
            "\n",
            "Top 10 least common transitions on train set:\n",
            "\n",
            "[(('ADJ', 'ADP'), -2.640411), (('ADJ', 'PRON'), -2.40467), (('PROPN', 'ADJ'), -2.018176), (('DET', 'ADP'), -1.847357), (('PROPN', 'AUX'), -1.814063), (('PROPN', 'DET'), -1.792265), (('VERB', 'ADJ'), -1.672327), (('AUX', 'ADJ'), -1.597697), (('NOUN', 'ADJ'), -1.476917), (('VERB', 'PROPN'), -1.33317)]\n"
          ],
          "name": "stdout"
        }
      ]
    },
    {
      "cell_type": "code",
      "metadata": {
        "id": "2hZpN1j2peiP",
        "outputId": "49995574-7e5a-405b-8804-86b645f61d02",
        "colab": {
          "base_uri": "https://localhost:8080/",
          "height": 171
        }
      },
      "source": [
        "#Prints the 10 most common and least common transition Features on test set\n",
        "crf = CRF(\n",
        "    algorithm='lbfgs',\n",
        "    c1=0.1,\n",
        "    c2=0.1,\n",
        "    max_iterations=800,\n",
        "    all_possible_transitions=True\n",
        ")\n",
        "\n",
        "# Fit the crf on test data just for printing transitions on test set\n",
        "crf = crf.fit(X_test, y_test)\n",
        "\n",
        "print(\"\\nTop 10 most common transitions on test set:\\n\")\n",
        "print(Counter(crf.transition_features_).most_common(10))\n",
        "\n",
        "print(\"\\nTop 10 least common transitions on test set:\\n\")\n",
        "print(Counter(crf.transition_features_).most_common()[-10:][::-1])"
      ],
      "execution_count": 12,
      "outputs": [
        {
          "output_type": "stream",
          "text": [
            "\n",
            "Top 10 most common transitions on test set:\n",
            "\n",
            "[(('VERB', 'AUX'), 3.351348), (('AUX', 'AUX'), 2.883161), (('NUM', 'NUM'), 2.029152), (('PROPN', 'ADP'), 1.968291), (('AUX', 'PUNCT'), 1.831876), (('NUM', 'NOUN'), 1.809205), (('PART', 'NUM'), 1.673777), (('PROPN', 'PROPN'), 1.620077), (('PRON', 'ADP'), 1.611337), (('DET', 'NOUN'), 1.493193)]\n",
            "\n",
            "Top 10 least common transitions on test set:\n",
            "\n",
            "[(('PROPN', 'ADJ'), -1.980153), (('ADJ', 'ADP'), -1.736564), (('PROPN', 'AUX'), -1.682555), (('VERB', 'PROPN'), -1.49978), (('NOUN', 'NOUN'), -1.363538), (('ADJ', 'ADJ'), -1.36261), (('VERB', 'ADJ'), -1.296107), (('NOUN', 'DET'), -1.098471), (('AUX', 'VERB'), -1.067114), (('DET', 'PROPN'), -1.055852)]\n"
          ],
          "name": "stdout"
        }
      ]
    }
  ]
}